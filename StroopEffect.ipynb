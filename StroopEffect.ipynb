{
 "cells": [
  {
   "cell_type": "markdown",
   "metadata": {
    "collapsed": false,
    "scrolled": true
   },
   "source": [
    "#1. What is our independent variable? What is our dependent variable?\n",
    "(Independent variable) causes a change in (Dependent Variable) and it isn't possible that (Dependent Variable) could cause a change in (Independent Variable).\n",
    "\n",
    "\n",
    "Independent variable: Congruent word list \n",
    "\n",
    "Dependent variable: Incongruent word list \n"
   ]
  },
  {
   "cell_type": "markdown",
   "metadata": {
    "collapsed": false,
    "scrolled": true
   },
   "source": [
    "#2. What is an appropriate set of hypotheses for this task? What kind of statistical test do you expect to perform? Justify your choices\n",
    "\n",
    "Ho: μs = μ0\n",
    "- incongruent datset does not have an effect on playaer reconition time \n",
    "Ha: μs < μ0\n",
    "- incongruent dataset does have an efect on player recognition time \n",
    "\n",
    "μs = congruent dataset \n",
    "μ0 = incongruent dataset \n",
    "\n",
    "paired one-tailed t-test: \n",
    "1. Operating under the belief that incongruent dataset will not improve recognition time. \n",
    "2. Players are considered wihin-subjects\n",
    "3. n < 30 cannot assume distribution is normal \n"
   ]
  },
  {
   "cell_type": "code",
   "execution_count": 16,
   "metadata": {
    "collapsed": false,
    "scrolled": true
   },
   "outputs": [
    {
     "name": "stdout",
     "output_type": "stream",
     "text": [
      "The variance is: 12.6690290707\n",
      "The SD is:  3.55935795765\n",
      "The mean is:  14.051125\n",
      "x = 24\n",
      "SE = 0.726550900679\n"
     ]
    }
   ],
   "source": [
    "# 3. Report some descriptive statistics regarding this dataset. Include at least one measure of central tendency and at least one measure of variability.\n",
    "%matplotlib inline\n",
    "import pandas as pd \n",
    "import scipy.stats as stats\n",
    "import matplotlib.pyplot as plt \n",
    "\n",
    "cong = pd.read_csv('stroopdata.csv')\n",
    "cong_sep = cong['Congruent']\n",
    "\n",
    "mean_c = cong_sep.mean()\n",
    "\n",
    "print 'The variance is:', cong_sep.var()\n",
    "print 'The SD is: ', cong_sep.std()\n",
    "print 'The mean is: ', mean_c\n",
    "print 'x =', len(cong_sep)\n",
    "print 'SE =', cong_sep.sem()"
   ]
  },
  {
   "cell_type": "code",
   "execution_count": 17,
   "metadata": {
    "collapsed": false
   },
   "outputs": [
    {
     "data": {
      "text/plain": [
       "<matplotlib.lines.Line2D at 0x1062e5dd0>"
      ]
     },
     "execution_count": 17,
     "metadata": {},
     "output_type": "execute_result"
    },
    {
     "data": {
      "image/png": "[encoded data removed]",
      "text/plain": [
       "<matplotlib.figure.Figure at 0x1165a6210>"
      ]
     },
     "metadata": {},
     "output_type": "display_data"
    }
   ],
   "source": [
    "cong_sep.plot.kde()\n",
    "plt.title('Congruent')\n",
    "\n",
    "plt.axvline(mean_c, color='r', linestyle='--')"
   ]
  },
  {
   "cell_type": "code",
   "execution_count": 18,
   "metadata": {
    "collapsed": false
   },
   "outputs": [
    {
     "name": "stdout",
     "output_type": "stream",
     "text": [
      "The variance is: 23.0117570362\n",
      "The SD is:  4.79705712247\n",
      "The mean is:  22.0159166667\n",
      "x = 24\n",
      "SE = 0.979195184753\n"
     ]
    }
   ],
   "source": [
    "incong_sep = cong['Incongruent']\n",
    "\n",
    "mean_i = incong_sep.mean()\n",
    "\n",
    "\n",
    "print 'The variance is:', incong_sep.var()\n",
    "print 'The SD is: ', incong_sep.std()\n",
    "print 'The mean is: ', mean_i\n",
    "print 'x =', len(incong_sep)\n",
    "print 'SE =', incong_sep.sem()"
   ]
  },
  {
   "cell_type": "code",
   "execution_count": 19,
   "metadata": {
    "collapsed": false,
    "scrolled": true
   },
   "outputs": [
    {
     "data": {
      "text/plain": [
       "<matplotlib.lines.Line2D at 0x118fd23d0>"
      ]
     },
     "execution_count": 19,
     "metadata": {},
     "output_type": "execute_result"
    },
    {
     "data": {
      "image/png": "[encoded data removed]",
      "text/plain": [
       "<matplotlib.figure.Figure at 0x118fd22d0>"
      ]
     },
     "metadata": {},
     "output_type": "display_data"
    }
   ],
   "source": [
    "#4. Provide one or two visualizations that show the distribution of the sample data. Write one or two sentences noting what you observe about the plot or plots.\n",
    "incong_sep.plot.kde()\n",
    "plt.title('Incongruent')\n",
    "plt.axvline(mean_i, color='r', linestyle='--')"
   ]
  },
  {
   "cell_type": "code",
   "execution_count": 20,
   "metadata": {
    "collapsed": false
   },
   "outputs": [
    {
     "name": "stdout",
     "output_type": "stream",
     "text": [
      "t = -8.02070694411\n",
      "t critical = 1.714\n",
      "alapha = .05\n",
      "p-value = <.0001\n"
     ]
    }
   ],
   "source": [
    "#5. Now, perform the statistical test and report your results. What is your confidence level and your critical statistic value? Do you reject the null hypothesis or fail to reject it? Come to a conclusion in terms of the experiment task. Did the results match up with your expectations\n",
    "diff = cong['Congruent']-cong['Incongruent']\n",
    "sd = diff.std()\n",
    "mean = diff.mean()\n",
    "sem = diff.sem()\n",
    "t = (mean - 0) / sem\n",
    "print 't =', t\n",
    "\n",
    "print 't critical = 1.714'\n",
    "print 'alapha = .05'\n",
    "print 'p-value = <.0001'"
   ]
  },
  {
   "cell_type": "markdown",
   "metadata": {
    "collapsed": true,
    "scrolled": true
   },
   "source": [
    "With a p-value of < 0.0001, I will reject the null hypothesis. The difference in mean is statistically significant. \n"
   ]
  },
  {
   "cell_type": "code",
   "execution_count": null,
   "metadata": {
    "collapsed": true,
    "scrolled": true
   },
   "outputs": [],
   "source": []
  }
 ],
 "metadata": {
  "anaconda-cloud": {},
  "kernelspec": {
   "display_name": "Python [default]",
   "language": "python",
   "name": "python2"
  },
  "language_info": {
   "codemirror_mode": {
    "name": "ipython",
    "version": 2
   },
   "file_extension": ".py",
   "mimetype": "text/x-python",
   "name": "python",
   "nbconvert_exporter": "python",
   "pygments_lexer": "ipython2",
   "version": "2.7.12"
  }
 },
 "nbformat": 4,
 "nbformat_minor": 0
}
